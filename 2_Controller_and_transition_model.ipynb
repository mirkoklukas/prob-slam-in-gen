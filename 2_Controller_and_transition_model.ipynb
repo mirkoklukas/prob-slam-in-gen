{
 "cells": [
  {
   "cell_type": "code",
   "execution_count": 1,
   "metadata": {},
   "outputs": [
    {
     "data": {
      "text/html": [
       "<style>.rendered_html.text_cell_render {max-width:700px; }</style>"
      ],
      "text/plain": [
       "HTML{String}(\"<style>.rendered_html.text_cell_render {max-width:700px; }</style>\")"
      ]
     },
     "metadata": {},
     "output_type": "display_data"
    }
   ],
   "source": [
    "using Gen\n",
    "using Random\n",
    "using Distributions\n",
    "using StatsBase: mean, std, quantile\n",
    "using BenchmarkTools\n",
    "using FilePathsBase;\n",
    "using LinearAlgebra: dot, Diagonal\n",
    "using JSON\n",
    "import PyPlot\n",
    "plt = PyPlot.plt\n",
    "using JLD\n",
    "\n",
    "display(HTML(\"<style>.rendered_html.text_cell_render {max-width:700px; }</style>\"));"
   ]
  },
  {
   "cell_type": "code",
   "execution_count": 3,
   "metadata": {},
   "outputs": [],
   "source": [
    "include(\"utils.jl\")\n",
    "include(\"environment.jl\")\n",
    "include(\"raycaster.jl\")\n",
    "include(\"plotting.jl\")\n",
    "include(\"code_from_part_1.jl\");"
   ]
  },
  {
   "cell_type": "code",
   "execution_count": 4,
   "metadata": {},
   "outputs": [
    {
     "data": {
      "image/png": "[encoded data removed]",
      "text/plain": [
       "PyPlot.Figure(PyObject <Figure size 300x300 with 1 Axes>)"
      ]
     },
     "metadata": {},
     "output_type": "display_data"
    },
    {
     "name": "stdout",
     "output_type": "stream",
     "text": [
      "(187, 4)\n"
     ]
    }
   ],
   "source": [
    "env = load_env(2010)\n",
    "println(size(env.segs))\n",
    "plt.figure(figsize=(3,3)); plt.gca().set_aspect(1.);\n",
    "draw_env!(env);"
   ]
  },
  {
   "cell_type": "markdown",
   "metadata": {},
   "source": [
    "# Utilities"
   ]
  },
  {
   "cell_type": "code",
   "execution_count": 5,
   "metadata": {},
   "outputs": [],
   "source": [
    "\"\"\"\n",
    "    is_valid_move(x, y, env::Env)\n",
    "\n",
    "Checks if the step from `x` to `y` passes through an \n",
    "obstacle, and if so returns a scalar `s`  such that \n",
    "`(1-s)*x + s*y` encodes the intersection with the boundary\n",
    "\"\"\"\n",
    "function is_valid_move(x, y, env::Env)\n",
    "    v = y - x\n",
    "    _,C,S,T = ray_coll([x;y], env.segs) \n",
    "    if sum(C) == 0\n",
    "        return true, nothing\n",
    "    else\n",
    "        s = min(S[C]...)\n",
    "        return s > 1., s\n",
    "    end\n",
    "end;"
   ]
  },
  {
   "cell_type": "code",
   "execution_count": 6,
   "metadata": {},
   "outputs": [
    {
     "data": {
      "image/png": "[encoded data removed]",
      "text/plain": [
       "PyPlot.Figure(PyObject <Figure size 400x100 with 1 Axes>)"
      ]
     },
     "metadata": {},
     "output_type": "display_data"
    },
    {
     "data": {
      "text/plain": [
       "0.6002555453945297"
      ]
     },
     "execution_count": 6,
     "metadata": {},
     "output_type": "execute_result"
    }
   ],
   "source": [
    "\"Beta-like distribution over a bigger interval.\"\n",
    "@dist function my_scaled_beta(a, mean, scale)\n",
    "    mean_beta = mean/scale\n",
    "    b = a/mean_beta - a\n",
    "    scale*beta(a,b);\n",
    "end;\n",
    "\n",
    "a = 50.\n",
    "mean_speed = .6\n",
    "max_speed = 1.\n",
    "\n",
    "samples = [my_scaled_beta(a, mean_speed, max_speed) for t=1:2000]\n",
    "plt.figure(figsize=(4,1));\n",
    "plt.hist(samples, bins=0:max_speed/100:max_speed);\n",
    "mean(samples)"
   ]
  },
  {
   "cell_type": "markdown",
   "metadata": {},
   "source": [
    "# Controller- and Transition Model"
   ]
  },
  {
   "cell_type": "code",
   "execution_count": 7,
   "metadata": {},
   "outputs": [],
   "source": [
    "\"\"\"\n",
    "    Control\n",
    "\n",
    "Contains the controls of the agent. \n",
    "\"\"\"\n",
    "struct Control <: StructIterator\n",
    "    \"speed\"\n",
    "    s::Float64 \n",
    "    \"change of head direction\"\n",
    "    dhd::Float64\n",
    "end;\n",
    "\n",
    "\n",
    "\"\"\"\n",
    "    control_prior(pose, z, env, mean_speed, max_speed, dhd_noise)\n",
    "\n",
    "Ignores `pose`, `z`, `env` and mindlessly samples a random control vector.\n",
    "\"\"\"\n",
    "@gen function control_prior(pose::Pose, z, env::Env, mean_speed, max_speed, dhd_noise)\n",
    "    s   ~ my_scaled_beta(50., mean_speed, max_speed)\n",
    "    dhd ~ normal(0, dhd_noise)\n",
    "    return Control(s, dhd)\n",
    "end;"
   ]
  },
  {
   "cell_type": "code",
   "execution_count": 8,
   "metadata": {},
   "outputs": [],
   "source": [
    "\"\"\"\n",
    "    ghost_transition_model(pose::Pose, u::Control, env::Env, hd_noise, x_noise) \n",
    "\n",
    "A motion model for an agent that does **not** respect environmental boundaries.\n",
    "\"\"\"\n",
    "@gen function ghost_transition_model(pose::Pose, u::Control, env::Env, hd_noise, x_noise)    \n",
    "    hd ~ normal(pose.hd + u.dhd, hd_noise) \n",
    "    v = [u.s*cos(hd); u.s*sin(hd)]\n",
    "    x ~ mvnormal(pose.x + v, Diagonal([x_noise, x_noise]))\n",
    "    return Pose(x, hd)\n",
    "end;"
   ]
  },
  {
   "cell_type": "markdown",
   "metadata": {},
   "source": [
    "# Model w/o Mapping "
   ]
  },
  {
   "cell_type": "code",
   "execution_count": 11,
   "metadata": {},
   "outputs": [],
   "source": [
    "\"\"\"\n",
    "    SLAMState\n",
    "\n",
    "Kernel-state composed of \n",
    "- current pose, \n",
    "- measurement made at the current pose, and \n",
    "- control which will be applied to the current pose.\n",
    "\"\"\"\n",
    "mutable struct SLAMState <: StructIterator\n",
    "    pose::Pose \n",
    "    z::Array{Float64} \n",
    "    u::Control\n",
    "end\n",
    "\n",
    "\n",
    "@gen function slam_kernel(t::Int, \n",
    "                          bel::SLAMState, \n",
    "                          env::Env, \n",
    "                          control_model::DynamicDSLFunction,\n",
    "                          control_args,\n",
    "                          transition_model::DynamicDSLFunction,\n",
    "                          transition_args,\n",
    "                          sensor_model::DynamicDSLFunction,\n",
    "                          sensor_args)\n",
    "    \n",
    "    pose  = @trace(transition_model(bel.pose, bel.u, env, transition_args...), :pose)\n",
    "    \n",
    "#     if validate_move\n",
    "#         valid, = is_valid_move(bel.pose.x, pose.x, env)\n",
    "#         @trace(bernoulli(valid), :valid)    \n",
    "#         if !valid\n",
    "#            pose = bel.pose \n",
    "#         end\n",
    "#     end\n",
    "    \n",
    "    z     = @trace(sensor_model(pose, env, sensor_args...), :sense)\n",
    "    u     = @trace(control_model(pose, z, env, control_args...), :u)\n",
    "    \n",
    "    return SLAMState(pose, z, u)\n",
    "end\n",
    "\n",
    "slam_chain = Gen.Unfold(slam_kernel);"
   ]
  },
  {
   "cell_type": "markdown",
   "metadata": {},
   "source": [
    "Let us first look at a simple trace (with `num_rays` and `T` small) and define some helper to access the data."
   ]
  },
  {
   "cell_type": "code",
   "execution_count": 12,
   "metadata": {},
   "outputs": [
    {
     "data": {
      "text/plain": [
       "│\n",
       "├── 1\n",
       "│   │\n",
       "│   ├── :pose\n",
       "│   │   │\n",
       "│   │   ├── :hd : -0.0949785537930484\n",
       "│   │   │\n",
       "│   │   └── :x : [3.4428192619373994, 8.83319698713838]\n",
       "│   │\n",
       "│   ├── :sense\n",
       "│   │   │\n",
       "│   │   ├── :z : [18.17512459425348, 3.6757669368978596, 22.22629096629553]\n",
       "│   │   │\n",
       "│   │   └── :ray_directions : [-3.2848301068979637, -0.10672163989639569, 3.105073571650313]\n",
       "│   │\n",
       "│   └── :u\n",
       "│       │\n",
       "│       ├── :s : 1.112749025076085\n",
       "│       │\n",
       "│       └── :dhd : -0.022035014019580506\n",
       "│\n",
       "└── 2\n",
       "    │\n",
       "    ├── :pose\n",
       "    │   │\n",
       "    │   ├── :hd : -0.11245741908893908\n",
       "    │   │\n",
       "    │   └── :x : [4.534229827305163, 8.796747097085596]\n",
       "    │\n",
       "    ├── :sense\n",
       "    │   │\n",
       "    │   ├── :z : [18.250347821425727, 4.672433613632803, 20.94895517880245]\n",
       "    │   │\n",
       "    │   └── :ray_directions : [-3.303190275685343, -0.12014052763461089, 3.0402309126838545]\n",
       "    │\n",
       "    └── :u\n",
       "        │\n",
       "        ├── :s : 1.0146901635537935\n",
       "        │\n",
       "        └── :dhd : 0.09415814850275986\n"
      ]
     },
     "execution_count": 12,
     "metadata": {},
     "output_type": "execute_result"
    }
   ],
   "source": [
    "# Config\n",
    "# ---\n",
    "control_args = (mean_speed=1., max_speed=2., dhd_noise=0.1)\n",
    "sensor_args  = (num_rays=3, fov=180, angular_noise=0.1, depth_noise=0.1, max_depth=20.)\n",
    "transition_args = (hd_noise=0.01, x_noise=0.01)\n",
    "\n",
    "# Initial state of the chain\n",
    "# ---\n",
    "pose0  = Pose([2.5; 9.], -0.1)\n",
    "z0     = sensor_model(pose0, env, sensor_args...)\n",
    "u0     = Control(1.0, 0.0)\n",
    "bel0   = SLAMState(pose0, z0, u0)\n",
    "\n",
    "T = 2\n",
    "\n",
    "slam_args =  (T, bel0, env, \n",
    "    control_prior, control_args, \n",
    "    ghost_transition_model, \n",
    "    transition_args, \n",
    "    sensor_model, sensor_args)\n",
    "\n",
    "tr = Gen.simulate(slam_chain, slam_args,);\n",
    "ch = get_choices(tr)"
   ]
  },
  {
   "cell_type": "code",
   "execution_count": 13,
   "metadata": {},
   "outputs": [
    {
     "data": {
      "text/plain": [
       "get_xs_from_poses (generic function with 1 method)"
      ]
     },
     "execution_count": 13,
     "metadata": {},
     "output_type": "execute_result"
    }
   ],
   "source": [
    "function get_poses_and_controls(tr)\n",
    "    T, bel0, = get_args(tr)\n",
    "    ch = get_choices(tr)\n",
    "    p  = Array{Pose,1}(undef, T)\n",
    "    u  = Array{Control,1}(undef, T)\n",
    "    z  = zeros(T, size(bel0.z)...)\n",
    "\n",
    "    \n",
    "    for t=1:T\n",
    "        p[t] = Pose(tr[t => :pose => :x], tr[t => :pose => :hd])\n",
    "        u[t] = Control(tr[t => :u => :s], tr[t => :u => :dhd])\n",
    "        z[t,:] = tr[t => :sense => :z]\n",
    "    end\n",
    "    return p, u, z\n",
    "end\n",
    "\n",
    "get_xs_from_poses(ps) = hcat(map(p -> getfield(p, :x), ps)...)'"
   ]
  },
  {
   "cell_type": "code",
   "execution_count": 14,
   "metadata": {},
   "outputs": [
    {
     "data": {
      "image/png": "[encoded data removed]",
      "text/plain": [
       "PyPlot.Figure(PyObject <Figure size 300x300 with 1 Axes>)"
      ]
     },
     "metadata": {},
     "output_type": "display_data"
    }
   ],
   "source": [
    "# Config\n",
    "# ---\n",
    "control_args = (mean_speed=.6, max_speed=1., dhd_noise=0.1)\n",
    "sensor_args  = (num_rays=100, fov=180, angular_noise=1e-2, depth_noise=1e-2, max_depth=20.)\n",
    "transition_args = (hd_noise=0.01, x_noise=0.01)\n",
    "\n",
    "# Initial state of the chain\n",
    "# ---\n",
    "pose0  = Pose([2.5; 5.], -0.1)\n",
    "z0     = sensor_model(pose0, env, sensor_args...)\n",
    "u0     = Control(1.0, 0.0)\n",
    "bel0   = SLAMState(pose0, z0, u0)\n",
    "\n",
    "####\n",
    "plt.figure(figsize=(3,3)); plt.gca().set_aspect(1.); plt.gca().axis(\"off\")\n",
    "draw_env!(env)\n",
    "draw_pose!(pose0...; len=2., c=\"b\", zorder=4)\n",
    "draw_sense!(pose0..., z0, sensor_args; c=\"C1\", alpha=.5);"
   ]
  },
  {
   "cell_type": "code",
   "execution_count": 17,
   "metadata": {
    "scrolled": false
   },
   "outputs": [
    {
     "data": {
      "image/png": "[encoded data removed]",
      "text/plain": [
       "PyPlot.Figure(PyObject <Figure size 600x600 with 1 Axes>)"
      ]
     },
     "metadata": {},
     "output_type": "display_data"
    },
    {
     "data": {
      "text/plain": [
       "1-element Array{PyCall.PyObject,1}:\n",
       " PyObject <matplotlib.lines.Line2D object at 0x7f8b0e92d9d0>"
      ]
     },
     "execution_count": 17,
     "metadata": {},
     "output_type": "execute_result"
    }
   ],
   "source": [
    "T = 20\n",
    "\n",
    "slam_args =  (T, bel0, env, \n",
    "    control_prior, control_args, \n",
    "    ghost_transition_model, \n",
    "    transition_args, \n",
    "    sensor_model, sensor_args)\n",
    "\n",
    "tr = Gen.simulate(slam_chain, slam_args,);\n",
    "\n",
    "####\n",
    "\n",
    "ps, us, zs = get_poses_and_controls(tr)\n",
    "xs = get_xs_from_poses(ps);\n",
    "t  = 5\n",
    "\n",
    "####\n",
    "plt.figure(figsize=(6,6)); plt.gca().set_aspect(1.); plt.gca().axis(\"off\")\n",
    "draw_env!(env)\n",
    "draw_pose!(ps[t]...; len=0.0, c=\"b\", zorder=4)\n",
    "draw_sense!(ps[t]..., zs[t,:], sensor_args; c=\"C1\", alpha=.3);\n",
    "plt.plot(xs[:,1], xs[:,2], marker=\".\", alpha=0.5, c=\"C0\", zorder=1)\n"
   ]
  },
  {
   "cell_type": "markdown",
   "metadata": {},
   "source": [
    "# Path planning"
   ]
  },
  {
   "cell_type": "code",
   "execution_count": null,
   "metadata": {},
   "outputs": [],
   "source": [
    "# using Pkg\n",
    "# Pkg.add(PackageSpec(url=\"https://github.com/probcomp/Gen2DAgentMotion.jl\"))"
   ]
  },
  {
   "cell_type": "code",
   "execution_count": 725,
   "metadata": {},
   "outputs": [
    {
     "data": {
      "image/png": "[encoded data removed]",
      "text/plain": [
       "PyPlot.Figure(PyObject <Figure size 300x300 with 1 Axes>)"
      ]
     },
     "metadata": {},
     "output_type": "display_data"
    },
    {
     "name": "stdout",
     "output_type": "stream",
     "text": [
      "(77, 4)\n"
     ]
    }
   ],
   "source": [
    "env = load_env(32371)\n",
    "println(size(env.segs))\n",
    "plt.figure(figsize=(3,3)); plt.gca().set_aspect(1.);\n",
    "draw_env!(env);"
   ]
  },
  {
   "cell_type": "code",
   "execution_count": 44,
   "metadata": {},
   "outputs": [],
   "source": [
    "import Gen2DAgentMotion: plan_path, refine_path, Path, Scene, \n",
    "    Bounds, Wall, Point, PlannerParams, RRTTree, simplify_path, plan_and_optimize_path\n",
    "\n",
    "Scene(env::Env) = Scene(Bounds(env.bounds'...),[Wall(Point(s[1:2]...),Point(s[3:4]...)) for s in eachrow(env.segs)] )\n",
    "\n",
    "is_inside(p::Pose, env::Env) = is_inside(p.x, env.segs)\n",
    "\n",
    "function decompose(path::Array{Point,1})\n",
    "    x   = vcat([[p.x p.y] for p in path]...)\n",
    "    dx  = x[2:end,:] - x[1:end-1,:]\n",
    "    hd  = [atan(v[2],v[1]) for v in eachrow(dx)]\n",
    "    s   = sum(dx.^2, dims=2)[:,1]\n",
    "    dhd = (hd[2:end] - hd[1:end-1]).%2π    \n",
    "    return x, hd, s, dhd \n",
    "end\n",
    "\n",
    "decompose(path::Path) = decompose(path.points)\n",
    "\n",
    "\n",
    "function pose_and_control(path::Path)\n",
    "    x, hd, s, dhd = decompose(path)\n",
    "    T = size(dhd,1)\n",
    "    \n",
    "    u = [Control(s[t],dhd[t]) for t=1:T]\n",
    "    p = [Pose(x[t], hd[t]) for t=1:T+1]\n",
    "end\n",
    "\n",
    "\n",
    "function random_pose_inside(env)\n",
    "    while true\n",
    "        p = pose_prior(env)\n",
    "        if is_inside(p, env)\n",
    "            return p\n",
    "        end\n",
    "    end\n",
    "end\n",
    "\n",
    "function draw_tree!(tree::RRTTree; ax=plt.gca(), c=\"black\",zorder=nothing, alpha=0.5)\n",
    "    for node in 1:tree.num_nodes\n",
    "        a = Point(tree.confs[1,node], tree.confs[2,node])\n",
    "        parent = tree.parents[node]\n",
    "        if parent == 0\n",
    "            continue\n",
    "        end\n",
    "        b = Point(tree.confs[1,parent],tree.confs[2,parent])\n",
    "        ax.plot([a.x, b.x], [a.y, b.y], color=c, zorder=zorder, alpha=alpha)\n",
    "    end\n",
    "end;"
   ]
  },
  {
   "cell_type": "code",
   "execution_count": 58,
   "metadata": {},
   "outputs": [
    {
     "data": {
      "image/png": "[encoded data removed]",
      "text/plain": [
       "PyPlot.Figure(PyObject <Figure size 500x500 with 1 Axes>)"
      ]
     },
     "metadata": {},
     "output_type": "display_data"
    }
   ],
   "source": [
    "p = random_pose_inside(env)\n",
    "q = random_pose_inside(env)\n",
    "params = PlannerParams(1000, 1., .01, 100, 1.0, 0.2);\n",
    "\n",
    "while true\n",
    "    global tree;\n",
    "#     path, _,tree = plan_and_optimize_path(Scene(env), Point(p.x...), Point(q.x...), params)\n",
    "    path, tree = plan_path(Point(p.x...), Point(q.x...), Scene(env), params);\n",
    "\n",
    "    if path != nothing\n",
    "        path = simplify_path(Scene(env), path; spacing=1.)\n",
    "        global xs, hds, ss, dhds\n",
    "        xs, hds, ss, dhds = decompose(path)\n",
    "        break\n",
    "    else\n",
    "        p = random_pose_inside(env)\n",
    "        q = random_pose_inside(env)\n",
    "    end\n",
    "end\n",
    "\n",
    "\n",
    "####\n",
    "plt.figure(figsize=(5,5)); plt.gca().set_aspect(1.); \n",
    "plt.gca().axis(\"off\")\n",
    "draw_env!(env)\n",
    "draw_pose!(p...; len=0., c=\"C0\", ec=\"w\",  m=\"o\", zorder=5)\n",
    "draw_pose!(q...; len=0., c=\"r\", ec=\"w\", m=\"o\", zorder=5)\n",
    "plt.plot(xs[:,1],xs[:,2], c=\"C0\", marker=\".\", alpha=.4, zorder=4)\n",
    "draw_tree!(tree; alpha=0.1, c=\"C0\", zorder=3)"
   ]
  },
  {
   "cell_type": "code",
   "execution_count": null,
   "metadata": {},
   "outputs": [],
   "source": []
  }
 ],
 "metadata": {
  "@webio": {
   "lastCommId": null,
   "lastKernelId": null
  },
  "kernelspec": {
   "display_name": "Julia 1.3.1",
   "language": "julia",
   "name": "julia-1.3"
  },
  "language_info": {
   "file_extension": ".jl",
   "mimetype": "application/julia",
   "name": "julia",
   "version": "1.3.1"
  },
  "toc": {
   "base_numbering": 1,
   "nav_menu": {},
   "number_sections": true,
   "sideBar": true,
   "skip_h1_title": false,
   "title_cell": "Table of Contents",
   "title_sidebar": "Contents",
   "toc_cell": false,
   "toc_position": {
    "height": "calc(100% - 180px)",
    "left": "10px",
    "top": "150px",
    "width": "430.188px"
   },
   "toc_section_display": true,
   "toc_window_display": true
  }
 },
 "nbformat": 4,
 "nbformat_minor": 4
}
