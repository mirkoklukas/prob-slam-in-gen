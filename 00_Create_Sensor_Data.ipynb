{
 "cells": [
  {
   "cell_type": "code",
   "execution_count": 6,
   "metadata": {},
   "outputs": [
    {
     "data": {
      "text/html": [
       "<style>.rendered_html.text_cell_render {max-width:700px; }</style>"
      ],
      "text/plain": [
       "HTML{String}(\"<style>.rendered_html.text_cell_render {max-width:700px; }</style>\")"
      ]
     },
     "metadata": {},
     "output_type": "display_data"
    }
   ],
   "source": [
    "display(HTML(\"<style>.rendered_html.text_cell_render {max-width:700px; }</style>\"));"
   ]
  },
  {
   "cell_type": "code",
   "execution_count": 7,
   "metadata": {},
   "outputs": [],
   "source": [
    "using Random\n",
    "using FilePathsBase;\n",
    "using JSON\n",
    "import PyPlot\n",
    "plt = PyPlot.plt\n",
    "using JLD\n",
    "\n",
    "include(\"src/utils.jl\")\n",
    "include(\"src/expo_environment.jl\")\n",
    "include(\"src/raycaster.jl\");\n",
    "include(\"src/path_planning.jl\");"
   ]
  },
  {
   "cell_type": "markdown",
   "metadata": {},
   "source": [
    "**Choose an environment**"
   ]
  },
  {
   "cell_type": "code",
   "execution_count": 9,
   "metadata": {},
   "outputs": [
    {
     "data": {
      "image/png": "[encoded data removed]",
      "text/plain": [
       "PyPlot.Figure(PyObject <Figure size 300x300 with 1 Axes>)"
      ]
     },
     "metadata": {},
     "output_type": "display_data"
    }
   ],
   "source": [
    "env = load_env(2010; path=p\"data/HouseExpo_json\");\n",
    "plt.figure(figsize=(3,3)); plt.gca().set_aspect(1.);\n",
    "draw_env!(env);"
   ]
  },
  {
   "cell_type": "markdown",
   "metadata": {},
   "source": [
    "**Choose a path**"
   ]
  },
  {
   "cell_type": "code",
   "execution_count": 5,
   "metadata": {
    "scrolled": false
   },
   "outputs": [
    {
     "ename": "UndefVarError",
     "evalue": "UndefVarError: env not defined",
     "output_type": "error",
     "traceback": [
      "UndefVarError: env not defined",
      "",
      "Stacktrace:",
      " [1] top-level scope at ./In[5]:3"
     ]
    }
   ],
   "source": [
    "paths = []\n",
    "for _=1:20\n",
    "    path = get_random_path(env, PlannerParams(2000, 1., .01, 1000, 1.0, 0.2); simplify=true)\n",
    "    push!(paths, path)\n",
    "end\n",
    "\n",
    "# ----------\n",
    "for i=1:5:20\n",
    "    _, axs = plt.subplots(1,4, figsize=(15,3)); \n",
    "    for ax in axs ax.set_aspect(1.); ax.axis(\"off\"); end\n",
    "    for j=0:3\n",
    "        ax = axs[j+1]\n",
    "        x, = decompose(paths[i+j])\n",
    "\n",
    "        draw_env!(env,ax=ax);\n",
    "        ax.plot(x[:,1],x[:,2], c=\"C0\", marker=\".\", alpha=.4, zorder=4);\n",
    "        ax.set_title(\"paths[ $(i+j) ]\")\n",
    "    end\n",
    "end"
   ]
  },
  {
   "cell_type": "markdown",
   "metadata": {},
   "source": [
    "**Collect measurements along the path**\n",
    "\n",
    "Our SLAM model will be structured and indexed as follows:\n",
    "\n",
    "```julia\n",
    "        u[1]    u[1]    ...\n",
    "         |       |\n",
    "p[1] -- p[2] -- p[3] -- ...\n",
    " |       |       |\n",
    "z[1]    z[2]    z[3]    ...\n",
    "```\n",
    "\n",
    "The sensor measurements are given by $z_t = g(x_t, \\theta_t, \\text{env})$.\n",
    "For $u_t=(s_t, d\\theta_t)$ the pose update $(x_{t},\\theta_t) = f(x_{t-1}, \\theta_{t-1}, u_{t})$ is given by:\n",
    "\n",
    "- $\\theta_t = \\theta_{t-1} + d\\theta_t$\n",
    "- $x_{t} = x_{t-1} + s_t\\cdot e^{i\\theta_t}$, that means $\\theta_t = \\theta(x_t - x_{t-1})$\n",
    "\n",
    "\n",
    "\n",
    "**However** the decomposed path below is indexed as follows:\n",
    "\n",
    "- $\\theta_t = \\theta( x_{t+1} - x_{t})$\n",
    "- $\\theta_t = \\theta_{t-1} + d\\theta_{t-1}$\n",
    "\n",
    "**Thus** we'll adjust the indexing to make it consistent with the models in the other notebooks."
   ]
  },
  {
   "cell_type": "code",
   "execution_count": 8,
   "metadata": {},
   "outputs": [
    {
     "name": "stdout",
     "output_type": "stream",
     "text": [
      "(13, 2)(13,)(12,)(12,)\n"
     ]
    }
   ],
   "source": [
    "i = 18\n",
    "x, hd, s, dhd = decompose(paths[i])\n",
    "\n",
    "# Adjustments as described above\n",
    "hd  = [hd[1]; hd...];\n",
    "dhd = [0; dhd...];\n",
    "\n",
    "println(size(x), size(hd), size(s), size(dhd))"
   ]
  },
  {
   "cell_type": "code",
   "execution_count": 18,
   "metadata": {},
   "outputs": [],
   "source": [
    "function pseudo_lidar(x, hd, fov, n, env; max_val=Inf)\n",
    "    a = fov == 180 ? angles(fov, n+1)[1:end-1] : angles(fov, n)\n",
    "    da = a[2] - a[1]\n",
    "    a .+= da/2\n",
    "    rays = lightcone(a .+ hd)\n",
    "    z = cast(rays, x, env.segs; max_val=max_val)\n",
    "    return z,a\n",
    "end;"
   ]
  },
  {
   "cell_type": "code",
   "execution_count": 30,
   "metadata": {},
   "outputs": [],
   "source": [
    "T = length(hd)\n",
    "\n",
    "fov = 180\n",
    "n = 100\n",
    "max_val = Inf\n",
    "\n",
    "zs = []\n",
    "as = []\n",
    "xs = [] \n",
    "\n",
    "for t=1:T\n",
    "    z, a = pseudo_lidar(x[t,:], hd[t], fov, n, env; max_val=max_val)\n",
    "    push!(zs, z)\n",
    "    push!(as, a)\n",
    "    push!(xs, x[t,:])\n",
    "end"
   ]
  },
  {
   "cell_type": "code",
   "execution_count": 24,
   "metadata": {},
   "outputs": [
    {
     "data": {
      "image/png": "[encoded data removed]",
      "text/plain": [
       "PyPlot.Figure(PyObject <Figure size 1000x200 with 2 Axes>)"
      ]
     },
     "metadata": {},
     "output_type": "display_data"
    },
    {
     "data": {
      "text/plain": [
       "1-element Array{PyCall.PyObject,1}:\n",
       " PyObject <matplotlib.lines.Line2D object at 0x7fc7902dc710>"
      ]
     },
     "execution_count": 24,
     "metadata": {},
     "output_type": "execute_result"
    }
   ],
   "source": [
    "t=rand(1:length(zs))\n",
    "fig, axs = plt.subplots(1,2,figsize=(10,2)); \n",
    "axs[1].set_aspect(1); axs[1].axis(\"off\");\n",
    "draw_env!(env; ax=axs[1])\n",
    "y = zs[t] .* [cos.(as[t] .+ hd[t]) sin.(as[t] .+ hd[t])]\n",
    "y .+= x[t,:]'\n",
    "\n",
    "axs[1].scatter(y[:,1],y[:,2], c=\"C1\", alpha=0.5)\n",
    "axs[1].scatter(x[t,1], x[t,2], c=\"b\", edgecolor=\"w\", marker=\"o\", alpha=1., zorder=10)\n",
    "axs[1].plot(x[:,1], x[:,2], c=\"C0\", marker=\".\", alpha=.2, zorder=9)\n",
    "axs[2].plot(as[t], zs[t], c=\"C1\", marker=\".\", alpha=.4)"
   ]
  },
  {
   "cell_type": "markdown",
   "metadata": {},
   "source": [
    "**Save the measurements**"
   ]
  },
  {
   "cell_type": "code",
   "execution_count": 31,
   "metadata": {},
   "outputs": [
    {
     "name": "stderr",
     "output_type": "stream",
     "text": [
      "┌ Warning: JLD incorrectly extends FileIO functions (see FileIO documentation)\n",
      "└ @ FileIO /Users/mirko/.julia/packages/FileIO/AmppF/src/loadsave.jl:210\n"
     ]
    }
   ],
   "source": [
    "save(\"example_sensor_data.jld\", \n",
    "        \"x\", xs, \n",
    "        \"hd\", hd, \n",
    "        \"s\", s, \n",
    "        \"dhd\", dhd, \n",
    "        \"z\",zs,\n",
    "        \"a\",as, \n",
    "        \"fov\", fov, \n",
    "        \"n\", n, \n",
    "        \"max_val\", max_val, \n",
    "        \"env_id\", env.id)"
   ]
  },
  {
   "cell_type": "code",
   "execution_count": null,
   "metadata": {},
   "outputs": [],
   "source": []
  }
 ],
 "metadata": {
  "@webio": {
   "lastCommId": null,
   "lastKernelId": null
  },
  "kernelspec": {
   "display_name": "Julia 1.3.1",
   "language": "julia",
   "name": "julia-1.3"
  },
  "language_info": {
   "file_extension": ".jl",
   "mimetype": "application/julia",
   "name": "julia",
   "version": "1.3.1"
  },
  "toc": {
   "base_numbering": 1,
   "nav_menu": {},
   "number_sections": true,
   "sideBar": true,
   "skip_h1_title": false,
   "title_cell": "Table of Contents",
   "title_sidebar": "Contents",
   "toc_cell": false,
   "toc_position": {},
   "toc_section_display": true,
   "toc_window_display": false
  }
 },
 "nbformat": 4,
 "nbformat_minor": 4
}
